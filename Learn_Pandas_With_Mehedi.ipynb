{
  "nbformat": 4,
  "nbformat_minor": 0,
  "metadata": {
    "colab": {
      "name": "Learn Pandas With Mehedi.ipynb",
      "provenance": [],
      "authorship_tag": "ABX9TyPHMuZZcTj9R1dnnR0MpBA6",
      "include_colab_link": true
    },
    "kernelspec": {
      "name": "python3",
      "display_name": "Python 3"
    },
    "language_info": {
      "name": "python"
    }
  },
  "cells": [
    {
      "cell_type": "markdown",
      "metadata": {
        "id": "view-in-github",
        "colab_type": "text"
      },
      "source": [
        "<a href=\"https://colab.research.google.com/github/mehedihasanreal/Learn_Pandas_With_Mehedi/blob/main/Learn_Pandas_With_Mehedi.ipynb\" target=\"_parent\"><img src=\"https://colab.research.google.com/assets/colab-badge.svg\" alt=\"Open In Colab\"/></a>"
      ]
    },
    {
      "cell_type": "code",
      "metadata": {
        "id": "yxVHGsYYPSMs"
      },
      "source": [
        "# firstly import Pandas in a short form \"pd\"\n",
        "import pandas as pd"
      ],
      "execution_count": 1,
      "outputs": []
    },
    {
      "cell_type": "code",
      "metadata": {
        "colab": {
          "base_uri": "https://localhost:8080/",
          "height": 110
        },
        "id": "fB_1cLJvPn9f",
        "outputId": "be2efe4f-d330-4153-c042-34bfe10609c0"
      },
      "source": [
        "# data table\n",
        "# creating DataFrame\n",
        "info = pd.DataFrame({'Departement': ['BCSE', 'BsAg'], \n",
        "              'Address': ['Cumilla', 'Rajshahi'],\n",
        "              'CGPA' : ['351','381']},\n",
        "              index = ['Real', 'Nasim'])\n",
        "info"
      ],
      "execution_count": 2,
      "outputs": [
        {
          "output_type": "execute_result",
          "data": {
            "text/html": [
              "<div>\n",
              "<style scoped>\n",
              "    .dataframe tbody tr th:only-of-type {\n",
              "        vertical-align: middle;\n",
              "    }\n",
              "\n",
              "    .dataframe tbody tr th {\n",
              "        vertical-align: top;\n",
              "    }\n",
              "\n",
              "    .dataframe thead th {\n",
              "        text-align: right;\n",
              "    }\n",
              "</style>\n",
              "<table border=\"1\" class=\"dataframe\">\n",
              "  <thead>\n",
              "    <tr style=\"text-align: right;\">\n",
              "      <th></th>\n",
              "      <th>Departement</th>\n",
              "      <th>Address</th>\n",
              "      <th>CGPA</th>\n",
              "    </tr>\n",
              "  </thead>\n",
              "  <tbody>\n",
              "    <tr>\n",
              "      <th>Real</th>\n",
              "      <td>BCSE</td>\n",
              "      <td>Cumilla</td>\n",
              "      <td>351</td>\n",
              "    </tr>\n",
              "    <tr>\n",
              "      <th>Nasim</th>\n",
              "      <td>BsAg</td>\n",
              "      <td>Rajshahi</td>\n",
              "      <td>381</td>\n",
              "    </tr>\n",
              "  </tbody>\n",
              "</table>\n",
              "</div>"
            ],
            "text/plain": [
              "      Departement   Address CGPA\n",
              "Real         BCSE   Cumilla  351\n",
              "Nasim        BsAg  Rajshahi  381"
            ]
          },
          "metadata": {},
          "execution_count": 2
        }
      ]
    },
    {
      "cell_type": "code",
      "metadata": {
        "colab": {
          "base_uri": "https://localhost:8080/",
          "height": 203
        },
        "id": "YOXoNg1qQx8J",
        "outputId": "b1a2fd1d-f35f-4c54-a7e5-c804d9250267"
      },
      "source": [
        "# we can create directly or we can create using dictionary\n",
        "# first create a dictionary as Python\n",
        "dict1 = {\n",
        "    \"Name\":[\"Real\",'Nasim','Anamika','Tusher','Zubaer'],\n",
        "    \"Marks\":[50,55,60,70,75],\n",
        "    \"Address\":['Cumilla','Rajshahi','Mymensingh','Dhaka','Jessore']\n",
        "}\n",
        "# converting \"dict1\" into DataFrame and put into a variable\n",
        "info1 = pd.DataFrame(dict1)\n",
        "# call the variable for output\n",
        "info1"
      ],
      "execution_count": 3,
      "outputs": [
        {
          "output_type": "execute_result",
          "data": {
            "text/html": [
              "<div>\n",
              "<style scoped>\n",
              "    .dataframe tbody tr th:only-of-type {\n",
              "        vertical-align: middle;\n",
              "    }\n",
              "\n",
              "    .dataframe tbody tr th {\n",
              "        vertical-align: top;\n",
              "    }\n",
              "\n",
              "    .dataframe thead th {\n",
              "        text-align: right;\n",
              "    }\n",
              "</style>\n",
              "<table border=\"1\" class=\"dataframe\">\n",
              "  <thead>\n",
              "    <tr style=\"text-align: right;\">\n",
              "      <th></th>\n",
              "      <th>Name</th>\n",
              "      <th>Marks</th>\n",
              "      <th>Address</th>\n",
              "    </tr>\n",
              "  </thead>\n",
              "  <tbody>\n",
              "    <tr>\n",
              "      <th>0</th>\n",
              "      <td>Real</td>\n",
              "      <td>50</td>\n",
              "      <td>Cumilla</td>\n",
              "    </tr>\n",
              "    <tr>\n",
              "      <th>1</th>\n",
              "      <td>Nasim</td>\n",
              "      <td>55</td>\n",
              "      <td>Rajshahi</td>\n",
              "    </tr>\n",
              "    <tr>\n",
              "      <th>2</th>\n",
              "      <td>Anamika</td>\n",
              "      <td>60</td>\n",
              "      <td>Mymensingh</td>\n",
              "    </tr>\n",
              "    <tr>\n",
              "      <th>3</th>\n",
              "      <td>Tusher</td>\n",
              "      <td>70</td>\n",
              "      <td>Dhaka</td>\n",
              "    </tr>\n",
              "    <tr>\n",
              "      <th>4</th>\n",
              "      <td>Zubaer</td>\n",
              "      <td>75</td>\n",
              "      <td>Jessore</td>\n",
              "    </tr>\n",
              "  </tbody>\n",
              "</table>\n",
              "</div>"
            ],
            "text/plain": [
              "      Name  Marks     Address\n",
              "0     Real     50     Cumilla\n",
              "1    Nasim     55    Rajshahi\n",
              "2  Anamika     60  Mymensingh\n",
              "3   Tusher     70       Dhaka\n",
              "4   Zubaer     75     Jessore"
            ]
          },
          "metadata": {},
          "execution_count": 3
        }
      ]
    },
    {
      "cell_type": "code",
      "metadata": {
        "colab": {
          "base_uri": "https://localhost:8080/"
        },
        "id": "CyXVAwBzR_eM",
        "outputId": "48e7250c-c991-430f-bd91-ccb1b96397ba"
      },
      "source": [
        "# Series is another object in Pandas\n",
        "info_series = pd.Series([3.8, 3.6, 3.7], index=['Summer 2021', 'Spring 2021', 'Fall 2021'], name='Real')\n",
        "info_series"
      ],
      "execution_count": 4,
      "outputs": [
        {
          "output_type": "execute_result",
          "data": {
            "text/plain": [
              "Summer 2021    3.8\n",
              "Spring 2021    3.6\n",
              "Fall 2021      3.7\n",
              "Name: Real, dtype: float64"
            ]
          },
          "metadata": {},
          "execution_count": 4
        }
      ]
    },
    {
      "cell_type": "code",
      "metadata": {
        "colab": {
          "base_uri": "https://localhost:8080/",
          "height": 295
        },
        "id": "TZoF6y9FgoWc",
        "outputId": "4c8afdd2-ce67-4d1f-ef6c-83033308a72e"
      },
      "source": [
        "info1.to_csv(\"Student.csv\", index = False)\n",
        "info1.describe()"
      ],
      "execution_count": 5,
      "outputs": [
        {
          "output_type": "execute_result",
          "data": {
            "text/html": [
              "<div>\n",
              "<style scoped>\n",
              "    .dataframe tbody tr th:only-of-type {\n",
              "        vertical-align: middle;\n",
              "    }\n",
              "\n",
              "    .dataframe tbody tr th {\n",
              "        vertical-align: top;\n",
              "    }\n",
              "\n",
              "    .dataframe thead th {\n",
              "        text-align: right;\n",
              "    }\n",
              "</style>\n",
              "<table border=\"1\" class=\"dataframe\">\n",
              "  <thead>\n",
              "    <tr style=\"text-align: right;\">\n",
              "      <th></th>\n",
              "      <th>Marks</th>\n",
              "    </tr>\n",
              "  </thead>\n",
              "  <tbody>\n",
              "    <tr>\n",
              "      <th>count</th>\n",
              "      <td>5.000000</td>\n",
              "    </tr>\n",
              "    <tr>\n",
              "      <th>mean</th>\n",
              "      <td>62.000000</td>\n",
              "    </tr>\n",
              "    <tr>\n",
              "      <th>std</th>\n",
              "      <td>10.368221</td>\n",
              "    </tr>\n",
              "    <tr>\n",
              "      <th>min</th>\n",
              "      <td>50.000000</td>\n",
              "    </tr>\n",
              "    <tr>\n",
              "      <th>25%</th>\n",
              "      <td>55.000000</td>\n",
              "    </tr>\n",
              "    <tr>\n",
              "      <th>50%</th>\n",
              "      <td>60.000000</td>\n",
              "    </tr>\n",
              "    <tr>\n",
              "      <th>75%</th>\n",
              "      <td>70.000000</td>\n",
              "    </tr>\n",
              "    <tr>\n",
              "      <th>max</th>\n",
              "      <td>75.000000</td>\n",
              "    </tr>\n",
              "  </tbody>\n",
              "</table>\n",
              "</div>"
            ],
            "text/plain": [
              "           Marks\n",
              "count   5.000000\n",
              "mean   62.000000\n",
              "std    10.368221\n",
              "min    50.000000\n",
              "25%    55.000000\n",
              "50%    60.000000\n",
              "75%    70.000000\n",
              "max    75.000000"
            ]
          },
          "metadata": {},
          "execution_count": 5
        }
      ]
    },
    {
      "cell_type": "code",
      "metadata": {
        "colab": {
          "base_uri": "https://localhost:8080/",
          "height": 110
        },
        "id": "jGe93KvIigNy",
        "outputId": "02062124-69c1-478a-efc0-fc6f522e1aff"
      },
      "source": [
        "# first two row of the table\n",
        "info1.head(2)"
      ],
      "execution_count": 6,
      "outputs": [
        {
          "output_type": "execute_result",
          "data": {
            "text/html": [
              "<div>\n",
              "<style scoped>\n",
              "    .dataframe tbody tr th:only-of-type {\n",
              "        vertical-align: middle;\n",
              "    }\n",
              "\n",
              "    .dataframe tbody tr th {\n",
              "        vertical-align: top;\n",
              "    }\n",
              "\n",
              "    .dataframe thead th {\n",
              "        text-align: right;\n",
              "    }\n",
              "</style>\n",
              "<table border=\"1\" class=\"dataframe\">\n",
              "  <thead>\n",
              "    <tr style=\"text-align: right;\">\n",
              "      <th></th>\n",
              "      <th>Name</th>\n",
              "      <th>Marks</th>\n",
              "      <th>Address</th>\n",
              "    </tr>\n",
              "  </thead>\n",
              "  <tbody>\n",
              "    <tr>\n",
              "      <th>0</th>\n",
              "      <td>Real</td>\n",
              "      <td>50</td>\n",
              "      <td>Cumilla</td>\n",
              "    </tr>\n",
              "    <tr>\n",
              "      <th>1</th>\n",
              "      <td>Nasim</td>\n",
              "      <td>55</td>\n",
              "      <td>Rajshahi</td>\n",
              "    </tr>\n",
              "  </tbody>\n",
              "</table>\n",
              "</div>"
            ],
            "text/plain": [
              "    Name  Marks   Address\n",
              "0   Real     50   Cumilla\n",
              "1  Nasim     55  Rajshahi"
            ]
          },
          "metadata": {},
          "execution_count": 6
        }
      ]
    },
    {
      "cell_type": "code",
      "metadata": {
        "colab": {
          "base_uri": "https://localhost:8080/",
          "height": 110
        },
        "id": "Cb1YWAOzirNr",
        "outputId": "7bab8dd0-0ae8-4537-d263-2b68e542181f"
      },
      "source": [
        "# last two row of the table\n",
        "info1.tail(2)"
      ],
      "execution_count": 7,
      "outputs": [
        {
          "output_type": "execute_result",
          "data": {
            "text/html": [
              "<div>\n",
              "<style scoped>\n",
              "    .dataframe tbody tr th:only-of-type {\n",
              "        vertical-align: middle;\n",
              "    }\n",
              "\n",
              "    .dataframe tbody tr th {\n",
              "        vertical-align: top;\n",
              "    }\n",
              "\n",
              "    .dataframe thead th {\n",
              "        text-align: right;\n",
              "    }\n",
              "</style>\n",
              "<table border=\"1\" class=\"dataframe\">\n",
              "  <thead>\n",
              "    <tr style=\"text-align: right;\">\n",
              "      <th></th>\n",
              "      <th>Name</th>\n",
              "      <th>Marks</th>\n",
              "      <th>Address</th>\n",
              "    </tr>\n",
              "  </thead>\n",
              "  <tbody>\n",
              "    <tr>\n",
              "      <th>3</th>\n",
              "      <td>Tusher</td>\n",
              "      <td>70</td>\n",
              "      <td>Dhaka</td>\n",
              "    </tr>\n",
              "    <tr>\n",
              "      <th>4</th>\n",
              "      <td>Zubaer</td>\n",
              "      <td>75</td>\n",
              "      <td>Jessore</td>\n",
              "    </tr>\n",
              "  </tbody>\n",
              "</table>\n",
              "</div>"
            ],
            "text/plain": [
              "     Name  Marks  Address\n",
              "3  Tusher     70    Dhaka\n",
              "4  Zubaer     75  Jessore"
            ]
          },
          "metadata": {},
          "execution_count": 7
        }
      ]
    },
    {
      "cell_type": "code",
      "metadata": {
        "colab": {
          "base_uri": "https://localhost:8080/",
          "height": 295
        },
        "id": "rMI4m3X-i2Ki",
        "outputId": "e0a4c855-4f14-4aa3-de3c-5d23beba959e"
      },
      "source": [
        "# read the DataFrame\n",
        "# We'll use the pd.read_csv() function to read the data into a DataFrame. \n",
        "read = pd.read_csv(\"/content/Student.csv\")\n",
        "read.describe()"
      ],
      "execution_count": 8,
      "outputs": [
        {
          "output_type": "execute_result",
          "data": {
            "text/html": [
              "<div>\n",
              "<style scoped>\n",
              "    .dataframe tbody tr th:only-of-type {\n",
              "        vertical-align: middle;\n",
              "    }\n",
              "\n",
              "    .dataframe tbody tr th {\n",
              "        vertical-align: top;\n",
              "    }\n",
              "\n",
              "    .dataframe thead th {\n",
              "        text-align: right;\n",
              "    }\n",
              "</style>\n",
              "<table border=\"1\" class=\"dataframe\">\n",
              "  <thead>\n",
              "    <tr style=\"text-align: right;\">\n",
              "      <th></th>\n",
              "      <th>Marks</th>\n",
              "    </tr>\n",
              "  </thead>\n",
              "  <tbody>\n",
              "    <tr>\n",
              "      <th>count</th>\n",
              "      <td>5.000000</td>\n",
              "    </tr>\n",
              "    <tr>\n",
              "      <th>mean</th>\n",
              "      <td>62.000000</td>\n",
              "    </tr>\n",
              "    <tr>\n",
              "      <th>std</th>\n",
              "      <td>10.368221</td>\n",
              "    </tr>\n",
              "    <tr>\n",
              "      <th>min</th>\n",
              "      <td>50.000000</td>\n",
              "    </tr>\n",
              "    <tr>\n",
              "      <th>25%</th>\n",
              "      <td>55.000000</td>\n",
              "    </tr>\n",
              "    <tr>\n",
              "      <th>50%</th>\n",
              "      <td>60.000000</td>\n",
              "    </tr>\n",
              "    <tr>\n",
              "      <th>75%</th>\n",
              "      <td>70.000000</td>\n",
              "    </tr>\n",
              "    <tr>\n",
              "      <th>max</th>\n",
              "      <td>75.000000</td>\n",
              "    </tr>\n",
              "  </tbody>\n",
              "</table>\n",
              "</div>"
            ],
            "text/plain": [
              "           Marks\n",
              "count   5.000000\n",
              "mean   62.000000\n",
              "std    10.368221\n",
              "min    50.000000\n",
              "25%    55.000000\n",
              "50%    60.000000\n",
              "75%    70.000000\n",
              "max    75.000000"
            ]
          },
          "metadata": {},
          "execution_count": 8
        }
      ]
    },
    {
      "cell_type": "code",
      "metadata": {
        "colab": {
          "base_uri": "https://localhost:8080/"
        },
        "id": "dZdF60bijztj",
        "outputId": "8fb083c9-1fc3-4890-9af0-d2604e68a96a"
      },
      "source": [
        "# We can use the shape attribute to check how large the resulting DataFrame is\n",
        "read.shape\n",
        "# 5 splitts in 3 different coloumn"
      ],
      "execution_count": 9,
      "outputs": [
        {
          "output_type": "execute_result",
          "data": {
            "text/plain": [
              "(5, 3)"
            ]
          },
          "metadata": {},
          "execution_count": 9
        }
      ]
    },
    {
      "cell_type": "code",
      "metadata": {
        "colab": {
          "base_uri": "https://localhost:8080/"
        },
        "id": "fj95GMmxkWjB",
        "outputId": "f9029af7-5173-4123-a139-dbdbf02cce83"
      },
      "source": [
        "# maximum property of the DataFrame\n",
        "read.max()"
      ],
      "execution_count": 10,
      "outputs": [
        {
          "output_type": "execute_result",
          "data": {
            "text/plain": [
              "Name         Zubaer\n",
              "Marks            75\n",
              "Address    Rajshahi\n",
              "dtype: object"
            ]
          },
          "metadata": {},
          "execution_count": 10
        }
      ]
    },
    {
      "cell_type": "code",
      "metadata": {
        "colab": {
          "base_uri": "https://localhost:8080/"
        },
        "id": "pHeIgmZ5lSQd",
        "outputId": "af11be34-189c-4b1c-fffe-d0e5a7256dcd"
      },
      "source": [
        "# find any specific column\n",
        "read['Address']"
      ],
      "execution_count": 11,
      "outputs": [
        {
          "output_type": "execute_result",
          "data": {
            "text/plain": [
              "0       Cumilla\n",
              "1      Rajshahi\n",
              "2    Mymensingh\n",
              "3         Dhaka\n",
              "4       Jessore\n",
              "Name: Address, dtype: object"
            ]
          },
          "metadata": {},
          "execution_count": 11
        }
      ]
    },
    {
      "cell_type": "code",
      "metadata": {
        "colab": {
          "base_uri": "https://localhost:8080/",
          "height": 35
        },
        "id": "kb-PR_LYmdJi",
        "outputId": "032df76d-8f71-4b75-b052-521a9b993a8f"
      },
      "source": [
        "# for find out any specific data from table\n",
        "read['Address'][0]"
      ],
      "execution_count": 12,
      "outputs": [
        {
          "output_type": "execute_result",
          "data": {
            "application/vnd.google.colaboratory.intrinsic+json": {
              "type": "string"
            },
            "text/plain": [
              "'Cumilla'"
            ]
          },
          "metadata": {},
          "execution_count": 12
        }
      ]
    },
    {
      "cell_type": "code",
      "metadata": {
        "colab": {
          "base_uri": "https://localhost:8080/"
        },
        "id": "68_Za1Z6no0U",
        "outputId": "5ec4f5d8-85e8-43eb-892f-e811ab803bf8"
      },
      "source": [
        "# indexing in Pandas : *loc *iloc\n",
        "# index based selection : iloc\n",
        "read.iloc[0] # first row"
      ],
      "execution_count": 13,
      "outputs": [
        {
          "output_type": "execute_result",
          "data": {
            "text/plain": [
              "Name          Real\n",
              "Marks           50\n",
              "Address    Cumilla\n",
              "Name: 0, dtype: object"
            ]
          },
          "metadata": {},
          "execution_count": 13
        }
      ]
    },
    {
      "cell_type": "code",
      "metadata": {
        "colab": {
          "base_uri": "https://localhost:8080/"
        },
        "id": "TPE8CqWMp3da",
        "outputId": "b855537d-8f05-4563-8ccb-e57fe036dc94"
      },
      "source": [
        "# finding all elements of the first column\n",
        "read.iloc[:, 0]"
      ],
      "execution_count": 14,
      "outputs": [
        {
          "output_type": "execute_result",
          "data": {
            "text/plain": [
              "0       Real\n",
              "1      Nasim\n",
              "2    Anamika\n",
              "3     Tusher\n",
              "4     Zubaer\n",
              "Name: Name, dtype: object"
            ]
          },
          "metadata": {},
          "execution_count": 14
        }
      ]
    },
    {
      "cell_type": "code",
      "metadata": {
        "colab": {
          "base_uri": "https://localhost:8080/"
        },
        "id": "M-Hdm_XOqatC",
        "outputId": "3b98a07b-69e3-4d67-d397-8dead9825860"
      },
      "source": [
        "# from index = 1 to index = 3 in first column \n",
        "read.iloc[1:3, 0]"
      ],
      "execution_count": 15,
      "outputs": [
        {
          "output_type": "execute_result",
          "data": {
            "text/plain": [
              "1      Nasim\n",
              "2    Anamika\n",
              "Name: Name, dtype: object"
            ]
          },
          "metadata": {},
          "execution_count": 15
        }
      ]
    },
    {
      "cell_type": "code",
      "metadata": {
        "colab": {
          "base_uri": "https://localhost:8080/",
          "height": 110
        },
        "id": "fNPgogz5rOrL",
        "outputId": "4eefe4a4-7411-424c-c611-3efe7b8339a3"
      },
      "source": [
        "# finding from the last row all elements\n",
        "read.iloc[-2:]"
      ],
      "execution_count": 16,
      "outputs": [
        {
          "output_type": "execute_result",
          "data": {
            "text/html": [
              "<div>\n",
              "<style scoped>\n",
              "    .dataframe tbody tr th:only-of-type {\n",
              "        vertical-align: middle;\n",
              "    }\n",
              "\n",
              "    .dataframe tbody tr th {\n",
              "        vertical-align: top;\n",
              "    }\n",
              "\n",
              "    .dataframe thead th {\n",
              "        text-align: right;\n",
              "    }\n",
              "</style>\n",
              "<table border=\"1\" class=\"dataframe\">\n",
              "  <thead>\n",
              "    <tr style=\"text-align: right;\">\n",
              "      <th></th>\n",
              "      <th>Name</th>\n",
              "      <th>Marks</th>\n",
              "      <th>Address</th>\n",
              "    </tr>\n",
              "  </thead>\n",
              "  <tbody>\n",
              "    <tr>\n",
              "      <th>3</th>\n",
              "      <td>Tusher</td>\n",
              "      <td>70</td>\n",
              "      <td>Dhaka</td>\n",
              "    </tr>\n",
              "    <tr>\n",
              "      <th>4</th>\n",
              "      <td>Zubaer</td>\n",
              "      <td>75</td>\n",
              "      <td>Jessore</td>\n",
              "    </tr>\n",
              "  </tbody>\n",
              "</table>\n",
              "</div>"
            ],
            "text/plain": [
              "     Name  Marks  Address\n",
              "3  Tusher     70    Dhaka\n",
              "4  Zubaer     75  Jessore"
            ]
          },
          "metadata": {},
          "execution_count": 16
        }
      ]
    },
    {
      "cell_type": "code",
      "metadata": {
        "colab": {
          "base_uri": "https://localhost:8080/",
          "height": 35
        },
        "id": "pHRZTL8Frup6",
        "outputId": "71c47da3-5088-473d-e189-de51f320152f"
      },
      "source": [
        "# label based selection: loc\n",
        "# finding first element from \"Name\" column\n",
        "read.loc[0, 'Name']"
      ],
      "execution_count": 17,
      "outputs": [
        {
          "output_type": "execute_result",
          "data": {
            "application/vnd.google.colaboratory.intrinsic+json": {
              "type": "string"
            },
            "text/plain": [
              "'Real'"
            ]
          },
          "metadata": {},
          "execution_count": 17
        }
      ]
    },
    {
      "cell_type": "code",
      "metadata": {
        "colab": {
          "base_uri": "https://localhost:8080/",
          "height": 203
        },
        "id": "JV8HA0b1sD0B",
        "outputId": "5b8cdda4-4fbf-4e24-9aa9-5cc6087f6874"
      },
      "source": [
        "# finding all elements from \"Name\" and \"Marks\" column\n",
        "read.loc[:, ['Name', 'Marks']]"
      ],
      "execution_count": 18,
      "outputs": [
        {
          "output_type": "execute_result",
          "data": {
            "text/html": [
              "<div>\n",
              "<style scoped>\n",
              "    .dataframe tbody tr th:only-of-type {\n",
              "        vertical-align: middle;\n",
              "    }\n",
              "\n",
              "    .dataframe tbody tr th {\n",
              "        vertical-align: top;\n",
              "    }\n",
              "\n",
              "    .dataframe thead th {\n",
              "        text-align: right;\n",
              "    }\n",
              "</style>\n",
              "<table border=\"1\" class=\"dataframe\">\n",
              "  <thead>\n",
              "    <tr style=\"text-align: right;\">\n",
              "      <th></th>\n",
              "      <th>Name</th>\n",
              "      <th>Marks</th>\n",
              "    </tr>\n",
              "  </thead>\n",
              "  <tbody>\n",
              "    <tr>\n",
              "      <th>0</th>\n",
              "      <td>Real</td>\n",
              "      <td>50</td>\n",
              "    </tr>\n",
              "    <tr>\n",
              "      <th>1</th>\n",
              "      <td>Nasim</td>\n",
              "      <td>55</td>\n",
              "    </tr>\n",
              "    <tr>\n",
              "      <th>2</th>\n",
              "      <td>Anamika</td>\n",
              "      <td>60</td>\n",
              "    </tr>\n",
              "    <tr>\n",
              "      <th>3</th>\n",
              "      <td>Tusher</td>\n",
              "      <td>70</td>\n",
              "    </tr>\n",
              "    <tr>\n",
              "      <th>4</th>\n",
              "      <td>Zubaer</td>\n",
              "      <td>75</td>\n",
              "    </tr>\n",
              "  </tbody>\n",
              "</table>\n",
              "</div>"
            ],
            "text/plain": [
              "      Name  Marks\n",
              "0     Real     50\n",
              "1    Nasim     55\n",
              "2  Anamika     60\n",
              "3   Tusher     70\n",
              "4   Zubaer     75"
            ]
          },
          "metadata": {},
          "execution_count": 18
        }
      ]
    },
    {
      "cell_type": "code",
      "metadata": {
        "id": "239wX4xLtEbB"
      },
      "source": [
        "# iloc uses the Python stdlib indexing scheme, where the first element of the range is included and the last one excluded. So 0:10 will select entries 0,...,9.\n",
        "# loc, meanwhile, indexes inclusively. So 0:10 will select entries 0,...,10."
      ],
      "execution_count": null,
      "outputs": []
    },
    {
      "cell_type": "code",
      "metadata": {
        "colab": {
          "base_uri": "https://localhost:8080/",
          "height": 203
        },
        "id": "Un7Nmekm26tN",
        "outputId": "169f7771-9b51-40c3-bf9f-2873085430c9"
      },
      "source": [
        "# we can add index separately\n",
        "info1.index=['First','Second','Third','Fourth','Fifth']\n",
        "info1"
      ],
      "execution_count": 19,
      "outputs": [
        {
          "output_type": "execute_result",
          "data": {
            "text/html": [
              "<div>\n",
              "<style scoped>\n",
              "    .dataframe tbody tr th:only-of-type {\n",
              "        vertical-align: middle;\n",
              "    }\n",
              "\n",
              "    .dataframe tbody tr th {\n",
              "        vertical-align: top;\n",
              "    }\n",
              "\n",
              "    .dataframe thead th {\n",
              "        text-align: right;\n",
              "    }\n",
              "</style>\n",
              "<table border=\"1\" class=\"dataframe\">\n",
              "  <thead>\n",
              "    <tr style=\"text-align: right;\">\n",
              "      <th></th>\n",
              "      <th>Name</th>\n",
              "      <th>Marks</th>\n",
              "      <th>Address</th>\n",
              "    </tr>\n",
              "  </thead>\n",
              "  <tbody>\n",
              "    <tr>\n",
              "      <th>First</th>\n",
              "      <td>Real</td>\n",
              "      <td>50</td>\n",
              "      <td>Cumilla</td>\n",
              "    </tr>\n",
              "    <tr>\n",
              "      <th>Second</th>\n",
              "      <td>Nasim</td>\n",
              "      <td>55</td>\n",
              "      <td>Rajshahi</td>\n",
              "    </tr>\n",
              "    <tr>\n",
              "      <th>Third</th>\n",
              "      <td>Anamika</td>\n",
              "      <td>60</td>\n",
              "      <td>Mymensingh</td>\n",
              "    </tr>\n",
              "    <tr>\n",
              "      <th>Fourth</th>\n",
              "      <td>Tusher</td>\n",
              "      <td>70</td>\n",
              "      <td>Dhaka</td>\n",
              "    </tr>\n",
              "    <tr>\n",
              "      <th>Fifth</th>\n",
              "      <td>Zubaer</td>\n",
              "      <td>75</td>\n",
              "      <td>Jessore</td>\n",
              "    </tr>\n",
              "  </tbody>\n",
              "</table>\n",
              "</div>"
            ],
            "text/plain": [
              "           Name  Marks     Address\n",
              "First      Real     50     Cumilla\n",
              "Second    Nasim     55    Rajshahi\n",
              "Third   Anamika     60  Mymensingh\n",
              "Fourth   Tusher     70       Dhaka\n",
              "Fifth    Zubaer     75     Jessore"
            ]
          },
          "metadata": {},
          "execution_count": 19
        }
      ]
    },
    {
      "cell_type": "code",
      "metadata": {
        "colab": {
          "base_uri": "https://localhost:8080/",
          "height": 234
        },
        "id": "rEsbyTQI5ACl",
        "outputId": "df0d38ca-9412-448a-c193-d2eb115a5218"
      },
      "source": [
        "# this is called index manipulating\n",
        "info1.set_index('Name')"
      ],
      "execution_count": 20,
      "outputs": [
        {
          "output_type": "execute_result",
          "data": {
            "text/html": [
              "<div>\n",
              "<style scoped>\n",
              "    .dataframe tbody tr th:only-of-type {\n",
              "        vertical-align: middle;\n",
              "    }\n",
              "\n",
              "    .dataframe tbody tr th {\n",
              "        vertical-align: top;\n",
              "    }\n",
              "\n",
              "    .dataframe thead th {\n",
              "        text-align: right;\n",
              "    }\n",
              "</style>\n",
              "<table border=\"1\" class=\"dataframe\">\n",
              "  <thead>\n",
              "    <tr style=\"text-align: right;\">\n",
              "      <th></th>\n",
              "      <th>Marks</th>\n",
              "      <th>Address</th>\n",
              "    </tr>\n",
              "    <tr>\n",
              "      <th>Name</th>\n",
              "      <th></th>\n",
              "      <th></th>\n",
              "    </tr>\n",
              "  </thead>\n",
              "  <tbody>\n",
              "    <tr>\n",
              "      <th>Real</th>\n",
              "      <td>50</td>\n",
              "      <td>Cumilla</td>\n",
              "    </tr>\n",
              "    <tr>\n",
              "      <th>Nasim</th>\n",
              "      <td>55</td>\n",
              "      <td>Rajshahi</td>\n",
              "    </tr>\n",
              "    <tr>\n",
              "      <th>Anamika</th>\n",
              "      <td>60</td>\n",
              "      <td>Mymensingh</td>\n",
              "    </tr>\n",
              "    <tr>\n",
              "      <th>Tusher</th>\n",
              "      <td>70</td>\n",
              "      <td>Dhaka</td>\n",
              "    </tr>\n",
              "    <tr>\n",
              "      <th>Zubaer</th>\n",
              "      <td>75</td>\n",
              "      <td>Jessore</td>\n",
              "    </tr>\n",
              "  </tbody>\n",
              "</table>\n",
              "</div>"
            ],
            "text/plain": [
              "         Marks     Address\n",
              "Name                      \n",
              "Real        50     Cumilla\n",
              "Nasim       55    Rajshahi\n",
              "Anamika     60  Mymensingh\n",
              "Tusher      70       Dhaka\n",
              "Zubaer      75     Jessore"
            ]
          },
          "metadata": {},
          "execution_count": 20
        }
      ]
    },
    {
      "cell_type": "code",
      "metadata": {
        "colab": {
          "base_uri": "https://localhost:8080/"
        },
        "id": "QmQq7bZY7UGm",
        "outputId": "1075a9f8-5ebc-4b2d-e9e4-a472a52be666"
      },
      "source": [
        "# Conditional Selection\n",
        "read.Name == 'Real'"
      ],
      "execution_count": 21,
      "outputs": [
        {
          "output_type": "execute_result",
          "data": {
            "text/plain": [
              "0     True\n",
              "1    False\n",
              "2    False\n",
              "3    False\n",
              "4    False\n",
              "Name: Name, dtype: bool"
            ]
          },
          "metadata": {},
          "execution_count": 21
        }
      ]
    },
    {
      "cell_type": "code",
      "metadata": {
        "colab": {
          "base_uri": "https://localhost:8080/",
          "height": 80
        },
        "id": "dvtlJKkn8EPr",
        "outputId": "25031564-66c9-4d31-88c6-4ee5324d7369"
      },
      "source": [
        "# This operation produced a Series of True/False booleans based on the Name of each record.\n",
        "# This result can then be used inside of loc to select the relevant data.\n",
        "# Here we can use more than one condition using \"&\", \"|\"\n",
        "read.loc[read.Name == 'Real']"
      ],
      "execution_count": 22,
      "outputs": [
        {
          "output_type": "execute_result",
          "data": {
            "text/html": [
              "<div>\n",
              "<style scoped>\n",
              "    .dataframe tbody tr th:only-of-type {\n",
              "        vertical-align: middle;\n",
              "    }\n",
              "\n",
              "    .dataframe tbody tr th {\n",
              "        vertical-align: top;\n",
              "    }\n",
              "\n",
              "    .dataframe thead th {\n",
              "        text-align: right;\n",
              "    }\n",
              "</style>\n",
              "<table border=\"1\" class=\"dataframe\">\n",
              "  <thead>\n",
              "    <tr style=\"text-align: right;\">\n",
              "      <th></th>\n",
              "      <th>Name</th>\n",
              "      <th>Marks</th>\n",
              "      <th>Address</th>\n",
              "    </tr>\n",
              "  </thead>\n",
              "  <tbody>\n",
              "    <tr>\n",
              "      <th>0</th>\n",
              "      <td>Real</td>\n",
              "      <td>50</td>\n",
              "      <td>Cumilla</td>\n",
              "    </tr>\n",
              "  </tbody>\n",
              "</table>\n",
              "</div>"
            ],
            "text/plain": [
              "   Name  Marks  Address\n",
              "0  Real     50  Cumilla"
            ]
          },
          "metadata": {},
          "execution_count": 22
        }
      ]
    },
    {
      "cell_type": "code",
      "metadata": {
        "colab": {
          "base_uri": "https://localhost:8080/",
          "height": 110
        },
        "id": "jWXt2Btt8aMq",
        "outputId": "8d033e74-483d-4f27-af03-062611603172"
      },
      "source": [
        "# isin is lets us select data whose value \"is in\" a list of values\n",
        "read.loc[read.Name.isin(['Real', 'Nasim'])]"
      ],
      "execution_count": 23,
      "outputs": [
        {
          "output_type": "execute_result",
          "data": {
            "text/html": [
              "<div>\n",
              "<style scoped>\n",
              "    .dataframe tbody tr th:only-of-type {\n",
              "        vertical-align: middle;\n",
              "    }\n",
              "\n",
              "    .dataframe tbody tr th {\n",
              "        vertical-align: top;\n",
              "    }\n",
              "\n",
              "    .dataframe thead th {\n",
              "        text-align: right;\n",
              "    }\n",
              "</style>\n",
              "<table border=\"1\" class=\"dataframe\">\n",
              "  <thead>\n",
              "    <tr style=\"text-align: right;\">\n",
              "      <th></th>\n",
              "      <th>Name</th>\n",
              "      <th>Marks</th>\n",
              "      <th>Address</th>\n",
              "    </tr>\n",
              "  </thead>\n",
              "  <tbody>\n",
              "    <tr>\n",
              "      <th>0</th>\n",
              "      <td>Real</td>\n",
              "      <td>50</td>\n",
              "      <td>Cumilla</td>\n",
              "    </tr>\n",
              "    <tr>\n",
              "      <th>1</th>\n",
              "      <td>Nasim</td>\n",
              "      <td>55</td>\n",
              "      <td>Rajshahi</td>\n",
              "    </tr>\n",
              "  </tbody>\n",
              "</table>\n",
              "</div>"
            ],
            "text/plain": [
              "    Name  Marks   Address\n",
              "0   Real     50   Cumilla\n",
              "1  Nasim     55  Rajshahi"
            ]
          },
          "metadata": {},
          "execution_count": 23
        }
      ]
    },
    {
      "cell_type": "code",
      "metadata": {
        "colab": {
          "base_uri": "https://localhost:8080/",
          "height": 203
        },
        "id": "TIvImC-A8vN0",
        "outputId": "4a0bc8ac-e96f-46f8-8b65-67ff7c9abc72"
      },
      "source": [
        "# These methods let you highlight values which are (or are not) empty (NaN)\n",
        "read.loc[read.Marks.notnull()]"
      ],
      "execution_count": 24,
      "outputs": [
        {
          "output_type": "execute_result",
          "data": {
            "text/html": [
              "<div>\n",
              "<style scoped>\n",
              "    .dataframe tbody tr th:only-of-type {\n",
              "        vertical-align: middle;\n",
              "    }\n",
              "\n",
              "    .dataframe tbody tr th {\n",
              "        vertical-align: top;\n",
              "    }\n",
              "\n",
              "    .dataframe thead th {\n",
              "        text-align: right;\n",
              "    }\n",
              "</style>\n",
              "<table border=\"1\" class=\"dataframe\">\n",
              "  <thead>\n",
              "    <tr style=\"text-align: right;\">\n",
              "      <th></th>\n",
              "      <th>Name</th>\n",
              "      <th>Marks</th>\n",
              "      <th>Address</th>\n",
              "    </tr>\n",
              "  </thead>\n",
              "  <tbody>\n",
              "    <tr>\n",
              "      <th>0</th>\n",
              "      <td>Real</td>\n",
              "      <td>50</td>\n",
              "      <td>Cumilla</td>\n",
              "    </tr>\n",
              "    <tr>\n",
              "      <th>1</th>\n",
              "      <td>Nasim</td>\n",
              "      <td>55</td>\n",
              "      <td>Rajshahi</td>\n",
              "    </tr>\n",
              "    <tr>\n",
              "      <th>2</th>\n",
              "      <td>Anamika</td>\n",
              "      <td>60</td>\n",
              "      <td>Mymensingh</td>\n",
              "    </tr>\n",
              "    <tr>\n",
              "      <th>3</th>\n",
              "      <td>Tusher</td>\n",
              "      <td>70</td>\n",
              "      <td>Dhaka</td>\n",
              "    </tr>\n",
              "    <tr>\n",
              "      <th>4</th>\n",
              "      <td>Zubaer</td>\n",
              "      <td>75</td>\n",
              "      <td>Jessore</td>\n",
              "    </tr>\n",
              "  </tbody>\n",
              "</table>\n",
              "</div>"
            ],
            "text/plain": [
              "      Name  Marks     Address\n",
              "0     Real     50     Cumilla\n",
              "1    Nasim     55    Rajshahi\n",
              "2  Anamika     60  Mymensingh\n",
              "3   Tusher     70       Dhaka\n",
              "4   Zubaer     75     Jessore"
            ]
          },
          "metadata": {},
          "execution_count": 24
        }
      ]
    },
    {
      "cell_type": "code",
      "metadata": {
        "colab": {
          "base_uri": "https://localhost:8080/",
          "height": 203
        },
        "id": "ifpN6Q04-lSI",
        "outputId": "9773f41f-481e-4445-de88-39a4c79f3f52"
      },
      "source": [
        "# assigning data to a DataFrame is easy.\n",
        "read['Status'] = 'Good'\n",
        "read['Status']\n",
        "read"
      ],
      "execution_count": 25,
      "outputs": [
        {
          "output_type": "execute_result",
          "data": {
            "text/html": [
              "<div>\n",
              "<style scoped>\n",
              "    .dataframe tbody tr th:only-of-type {\n",
              "        vertical-align: middle;\n",
              "    }\n",
              "\n",
              "    .dataframe tbody tr th {\n",
              "        vertical-align: top;\n",
              "    }\n",
              "\n",
              "    .dataframe thead th {\n",
              "        text-align: right;\n",
              "    }\n",
              "</style>\n",
              "<table border=\"1\" class=\"dataframe\">\n",
              "  <thead>\n",
              "    <tr style=\"text-align: right;\">\n",
              "      <th></th>\n",
              "      <th>Name</th>\n",
              "      <th>Marks</th>\n",
              "      <th>Address</th>\n",
              "      <th>Status</th>\n",
              "    </tr>\n",
              "  </thead>\n",
              "  <tbody>\n",
              "    <tr>\n",
              "      <th>0</th>\n",
              "      <td>Real</td>\n",
              "      <td>50</td>\n",
              "      <td>Cumilla</td>\n",
              "      <td>Good</td>\n",
              "    </tr>\n",
              "    <tr>\n",
              "      <th>1</th>\n",
              "      <td>Nasim</td>\n",
              "      <td>55</td>\n",
              "      <td>Rajshahi</td>\n",
              "      <td>Good</td>\n",
              "    </tr>\n",
              "    <tr>\n",
              "      <th>2</th>\n",
              "      <td>Anamika</td>\n",
              "      <td>60</td>\n",
              "      <td>Mymensingh</td>\n",
              "      <td>Good</td>\n",
              "    </tr>\n",
              "    <tr>\n",
              "      <th>3</th>\n",
              "      <td>Tusher</td>\n",
              "      <td>70</td>\n",
              "      <td>Dhaka</td>\n",
              "      <td>Good</td>\n",
              "    </tr>\n",
              "    <tr>\n",
              "      <th>4</th>\n",
              "      <td>Zubaer</td>\n",
              "      <td>75</td>\n",
              "      <td>Jessore</td>\n",
              "      <td>Good</td>\n",
              "    </tr>\n",
              "  </tbody>\n",
              "</table>\n",
              "</div>"
            ],
            "text/plain": [
              "      Name  Marks     Address Status\n",
              "0     Real     50     Cumilla   Good\n",
              "1    Nasim     55    Rajshahi   Good\n",
              "2  Anamika     60  Mymensingh   Good\n",
              "3   Tusher     70       Dhaka   Good\n",
              "4   Zubaer     75     Jessore   Good"
            ]
          },
          "metadata": {},
          "execution_count": 25
        }
      ]
    },
    {
      "cell_type": "code",
      "metadata": {
        "id": "dBDvrn9x_PbU"
      },
      "source": [
        "# it will delete the irrelevant column\n",
        "read.drop('critic', axis='columns', inplace=True)\n",
        "read"
      ],
      "execution_count": null,
      "outputs": []
    },
    {
      "cell_type": "code",
      "metadata": {
        "colab": {
          "base_uri": "https://localhost:8080/"
        },
        "id": "ddNuVG7mAfH7",
        "outputId": "3d2be5ea-8263-4d2a-b1a3-458db7a4e4f5"
      },
      "source": [
        "# it will reverse the index\n",
        "read['index_backwards'] = range(len(read), 0, -1)\n",
        "read['index_backwards']"
      ],
      "execution_count": 27,
      "outputs": [
        {
          "output_type": "execute_result",
          "data": {
            "text/plain": [
              "0    5\n",
              "1    4\n",
              "2    3\n",
              "3    2\n",
              "4    1\n",
              "Name: index_backwards, dtype: int64"
            ]
          },
          "metadata": {},
          "execution_count": 27
        }
      ]
    },
    {
      "cell_type": "code",
      "metadata": {
        "colab": {
          "base_uri": "https://localhost:8080/",
          "height": 203
        },
        "id": "PE5Qb4d1A4-j",
        "outputId": "6b33c6be-1e55-4e3e-cd34-7f5f0957ad1b"
      },
      "source": [
        "# in big data using this method we can show the rows as we want\n",
        "pd.set_option('max_rows', 5)\n",
        "read"
      ],
      "execution_count": 28,
      "outputs": [
        {
          "output_type": "execute_result",
          "data": {
            "text/html": [
              "<div>\n",
              "<style scoped>\n",
              "    .dataframe tbody tr th:only-of-type {\n",
              "        vertical-align: middle;\n",
              "    }\n",
              "\n",
              "    .dataframe tbody tr th {\n",
              "        vertical-align: top;\n",
              "    }\n",
              "\n",
              "    .dataframe thead th {\n",
              "        text-align: right;\n",
              "    }\n",
              "</style>\n",
              "<table border=\"1\" class=\"dataframe\">\n",
              "  <thead>\n",
              "    <tr style=\"text-align: right;\">\n",
              "      <th></th>\n",
              "      <th>Name</th>\n",
              "      <th>Marks</th>\n",
              "      <th>Address</th>\n",
              "      <th>Status</th>\n",
              "      <th>index_backwards</th>\n",
              "    </tr>\n",
              "  </thead>\n",
              "  <tbody>\n",
              "    <tr>\n",
              "      <th>0</th>\n",
              "      <td>Real</td>\n",
              "      <td>50</td>\n",
              "      <td>Cumilla</td>\n",
              "      <td>Good</td>\n",
              "      <td>5</td>\n",
              "    </tr>\n",
              "    <tr>\n",
              "      <th>1</th>\n",
              "      <td>Nasim</td>\n",
              "      <td>55</td>\n",
              "      <td>Rajshahi</td>\n",
              "      <td>Good</td>\n",
              "      <td>4</td>\n",
              "    </tr>\n",
              "    <tr>\n",
              "      <th>2</th>\n",
              "      <td>Anamika</td>\n",
              "      <td>60</td>\n",
              "      <td>Mymensingh</td>\n",
              "      <td>Good</td>\n",
              "      <td>3</td>\n",
              "    </tr>\n",
              "    <tr>\n",
              "      <th>3</th>\n",
              "      <td>Tusher</td>\n",
              "      <td>70</td>\n",
              "      <td>Dhaka</td>\n",
              "      <td>Good</td>\n",
              "      <td>2</td>\n",
              "    </tr>\n",
              "    <tr>\n",
              "      <th>4</th>\n",
              "      <td>Zubaer</td>\n",
              "      <td>75</td>\n",
              "      <td>Jessore</td>\n",
              "      <td>Good</td>\n",
              "      <td>1</td>\n",
              "    </tr>\n",
              "  </tbody>\n",
              "</table>\n",
              "</div>"
            ],
            "text/plain": [
              "      Name  Marks     Address Status  index_backwards\n",
              "0     Real     50     Cumilla   Good                5\n",
              "1    Nasim     55    Rajshahi   Good                4\n",
              "2  Anamika     60  Mymensingh   Good                3\n",
              "3   Tusher     70       Dhaka   Good                2\n",
              "4   Zubaer     75     Jessore   Good                1"
            ]
          },
          "metadata": {},
          "execution_count": 28
        }
      ]
    },
    {
      "cell_type": "code",
      "metadata": {
        "colab": {
          "base_uri": "https://localhost:8080/"
        },
        "id": "hypLzBjbedPm",
        "outputId": "90791563-64ce-4165-e91a-1aec0ce543dd"
      },
      "source": [
        "# Pandas provides many simple \"summary functions\" (not an official name),\n",
        "# which restructure the data in some useful way\n",
        "read.Marks.describe()"
      ],
      "execution_count": 29,
      "outputs": [
        {
          "output_type": "execute_result",
          "data": {
            "text/plain": [
              "count     5.0\n",
              "mean     62.0\n",
              "         ... \n",
              "75%      70.0\n",
              "max      75.0\n",
              "Name: Marks, Length: 8, dtype: float64"
            ]
          },
          "metadata": {},
          "execution_count": 29
        }
      ]
    },
    {
      "cell_type": "code",
      "metadata": {
        "colab": {
          "base_uri": "https://localhost:8080/"
        },
        "id": "cVPvEC_ye9X-",
        "outputId": "19e2112d-e580-4fcf-f188-7ea29efecfce"
      },
      "source": [
        "# to see the mean of the points allotted, we can use the mean() function\n",
        "read.Marks.mean()"
      ],
      "execution_count": 30,
      "outputs": [
        {
          "output_type": "execute_result",
          "data": {
            "text/plain": [
              "62.0"
            ]
          },
          "metadata": {},
          "execution_count": 30
        }
      ]
    },
    {
      "cell_type": "code",
      "metadata": {
        "colab": {
          "base_uri": "https://localhost:8080/"
        },
        "id": "orbFrfEbfR-Y",
        "outputId": "49d99498-0eef-4409-e71d-a96c8e0ddcd9"
      },
      "source": [
        "# To see a list of unique values we can use the unique() function: \n",
        "read.Address.unique()"
      ],
      "execution_count": 31,
      "outputs": [
        {
          "output_type": "execute_result",
          "data": {
            "text/plain": [
              "array(['Cumilla', 'Rajshahi', 'Mymensingh', 'Dhaka', 'Jessore'],\n",
              "      dtype=object)"
            ]
          },
          "metadata": {},
          "execution_count": 31
        }
      ]
    },
    {
      "cell_type": "code",
      "metadata": {
        "colab": {
          "base_uri": "https://localhost:8080/"
        },
        "id": "-ZZVpBNDfSEH",
        "outputId": "4e13d65c-c1a2-4c97-811f-475da8bd8df2"
      },
      "source": [
        "# To see a list of unique values and \n",
        "# how often they occur in the dataset, we can use the value_counts() method:\n",
        "read.Address.value_counts()"
      ],
      "execution_count": 32,
      "outputs": [
        {
          "output_type": "execute_result",
          "data": {
            "text/plain": [
              "Dhaka         1\n",
              "Jessore       1\n",
              "Rajshahi      1\n",
              "Cumilla       1\n",
              "Mymensingh    1\n",
              "Name: Address, dtype: int64"
            ]
          },
          "metadata": {},
          "execution_count": 32
        }
      ]
    },
    {
      "cell_type": "code",
      "metadata": {
        "id": "z2stZ-LUgFNI"
      },
      "source": [
        "# A map is a term, borrowed from mathematics, for a function that takes one set of\n",
        "# values and \"maps\" them to another set of values."
      ],
      "execution_count": null,
      "outputs": []
    },
    {
      "cell_type": "code",
      "metadata": {
        "colab": {
          "base_uri": "https://localhost:8080/"
        },
        "id": "wEDPtVdFi64V",
        "outputId": "63d11a77-5f77-4b72-a355-cea249345606"
      },
      "source": [
        "# The function you pass to map() should expect a single value from the Series\n",
        "# (a point value, in the example), and return a transformed version of that value\n",
        "# map() returns a new Series where all the values have been transformed by your function.\n",
        "read_marks_mean = read.Marks.mean()\n",
        "read.Marks.map(lambda m: m - read_marks_mean)"
      ],
      "execution_count": 33,
      "outputs": [
        {
          "output_type": "execute_result",
          "data": {
            "text/plain": [
              "0   -12.0\n",
              "1    -7.0\n",
              "2    -2.0\n",
              "3     8.0\n",
              "4    13.0\n",
              "Name: Marks, dtype: float64"
            ]
          },
          "metadata": {},
          "execution_count": 33
        }
      ]
    },
    {
      "cell_type": "code",
      "metadata": {
        "colab": {
          "base_uri": "https://localhost:8080/",
          "height": 203
        },
        "id": "NEED9oX_l-H9",
        "outputId": "d7976462-7745-4f69-f5ef-810c3a013dcd"
      },
      "source": [
        "# apply() is the equivalent method if we want to transform a whole DataFrame by \n",
        "# calling a custom method on each row.\n",
        "def remean_marks(row):\n",
        "  row.Marks = row.Marks - read_marks_mean\n",
        "  return row\n",
        "\n",
        "read.apply(remean_marks, axis = 'columns')"
      ],
      "execution_count": 34,
      "outputs": [
        {
          "output_type": "execute_result",
          "data": {
            "text/html": [
              "<div>\n",
              "<style scoped>\n",
              "    .dataframe tbody tr th:only-of-type {\n",
              "        vertical-align: middle;\n",
              "    }\n",
              "\n",
              "    .dataframe tbody tr th {\n",
              "        vertical-align: top;\n",
              "    }\n",
              "\n",
              "    .dataframe thead th {\n",
              "        text-align: right;\n",
              "    }\n",
              "</style>\n",
              "<table border=\"1\" class=\"dataframe\">\n",
              "  <thead>\n",
              "    <tr style=\"text-align: right;\">\n",
              "      <th></th>\n",
              "      <th>Name</th>\n",
              "      <th>Marks</th>\n",
              "      <th>Address</th>\n",
              "      <th>Status</th>\n",
              "      <th>index_backwards</th>\n",
              "    </tr>\n",
              "  </thead>\n",
              "  <tbody>\n",
              "    <tr>\n",
              "      <th>0</th>\n",
              "      <td>Real</td>\n",
              "      <td>-12.0</td>\n",
              "      <td>Cumilla</td>\n",
              "      <td>Good</td>\n",
              "      <td>5</td>\n",
              "    </tr>\n",
              "    <tr>\n",
              "      <th>1</th>\n",
              "      <td>Nasim</td>\n",
              "      <td>-7.0</td>\n",
              "      <td>Rajshahi</td>\n",
              "      <td>Good</td>\n",
              "      <td>4</td>\n",
              "    </tr>\n",
              "    <tr>\n",
              "      <th>2</th>\n",
              "      <td>Anamika</td>\n",
              "      <td>-2.0</td>\n",
              "      <td>Mymensingh</td>\n",
              "      <td>Good</td>\n",
              "      <td>3</td>\n",
              "    </tr>\n",
              "    <tr>\n",
              "      <th>3</th>\n",
              "      <td>Tusher</td>\n",
              "      <td>8.0</td>\n",
              "      <td>Dhaka</td>\n",
              "      <td>Good</td>\n",
              "      <td>2</td>\n",
              "    </tr>\n",
              "    <tr>\n",
              "      <th>4</th>\n",
              "      <td>Zubaer</td>\n",
              "      <td>13.0</td>\n",
              "      <td>Jessore</td>\n",
              "      <td>Good</td>\n",
              "      <td>1</td>\n",
              "    </tr>\n",
              "  </tbody>\n",
              "</table>\n",
              "</div>"
            ],
            "text/plain": [
              "      Name  Marks     Address Status  index_backwards\n",
              "0     Real  -12.0     Cumilla   Good                5\n",
              "1    Nasim   -7.0    Rajshahi   Good                4\n",
              "2  Anamika   -2.0  Mymensingh   Good                3\n",
              "3   Tusher    8.0       Dhaka   Good                2\n",
              "4   Zubaer   13.0     Jessore   Good                1"
            ]
          },
          "metadata": {},
          "execution_count": 34
        }
      ]
    },
    {
      "cell_type": "code",
      "metadata": {
        "colab": {
          "base_uri": "https://localhost:8080/"
        },
        "id": "FSdmjeBmnpfG",
        "outputId": "91de17b0-d27b-4aa3-d8ea-28c889da1c28"
      },
      "source": [
        "# Pandas provides many common mapping operations as built-ins\n",
        "read_marks_mean = read.Marks.mean()\n",
        "read.Marks - read_marks_mean"
      ],
      "execution_count": 35,
      "outputs": [
        {
          "output_type": "execute_result",
          "data": {
            "text/plain": [
              "0   -12.0\n",
              "1    -7.0\n",
              "2    -2.0\n",
              "3     8.0\n",
              "4    13.0\n",
              "Name: Marks, dtype: float64"
            ]
          },
          "metadata": {},
          "execution_count": 35
        }
      ]
    },
    {
      "cell_type": "code",
      "metadata": {
        "colab": {
          "base_uri": "https://localhost:8080/"
        },
        "id": "5D2SX71zoIkr",
        "outputId": "ce75167e-96cd-44b5-eb73-fe0d63adb0a9"
      },
      "source": [
        "# an easy way of combining Name and Address information in the dataset\n",
        "read.Name + \" - \" + read.Address"
      ],
      "execution_count": 36,
      "outputs": [
        {
          "output_type": "execute_result",
          "data": {
            "text/plain": [
              "0          Real - Cumilla\n",
              "1        Nasim - Rajshahi\n",
              "2    Anamika - Mymensingh\n",
              "3          Tusher - Dhaka\n",
              "4        Zubaer - Jessore\n",
              "dtype: object"
            ]
          },
          "metadata": {},
          "execution_count": 36
        }
      ]
    },
    {
      "cell_type": "code",
      "metadata": {
        "colab": {
          "base_uri": "https://localhost:8080/"
        },
        "id": "20Bh_E5lGtxZ",
        "outputId": "0a981917-a481-42c0-9d06-3a9199b32db7"
      },
      "source": [
        "# We can replicate what value_counts() does by doing the following:\n",
        "read.groupby('Marks').Marks.count()"
      ],
      "execution_count": 37,
      "outputs": [
        {
          "output_type": "execute_result",
          "data": {
            "text/plain": [
              "Marks\n",
              "50    1\n",
              "55    1\n",
              "60    1\n",
              "70    1\n",
              "75    1\n",
              "Name: Marks, dtype: int64"
            ]
          },
          "metadata": {},
          "execution_count": 37
        }
      ]
    },
    {
      "cell_type": "code",
      "metadata": {
        "colab": {
          "base_uri": "https://localhost:8080/"
        },
        "id": "RhxejdUbHCjh",
        "outputId": "0b6bc45e-a330-48b6-def7-83590a610d3a"
      },
      "source": [
        "read.groupby('Address').Marks.min()"
      ],
      "execution_count": 38,
      "outputs": [
        {
          "output_type": "execute_result",
          "data": {
            "text/plain": [
              "Address\n",
              "Cumilla       50\n",
              "Dhaka         70\n",
              "Jessore       75\n",
              "Mymensingh    60\n",
              "Rajshahi      55\n",
              "Name: Marks, dtype: int64"
            ]
          },
          "metadata": {},
          "execution_count": 38
        }
      ]
    },
    {
      "cell_type": "code",
      "metadata": {
        "colab": {
          "base_uri": "https://localhost:8080/"
        },
        "id": "wRHq1GjlTVqX",
        "outputId": "209ac40e-2718-4ad3-8394-13581e34af8c"
      },
      "source": [
        "read.groupby('Name').apply(lambda df: df.Address.iloc[0])"
      ],
      "execution_count": 39,
      "outputs": [
        {
          "output_type": "execute_result",
          "data": {
            "text/plain": [
              "Name\n",
              "Anamika    Mymensingh\n",
              "Nasim        Rajshahi\n",
              "Real          Cumilla\n",
              "Tusher          Dhaka\n",
              "Zubaer        Jessore\n",
              "dtype: object"
            ]
          },
          "metadata": {},
          "execution_count": 39
        }
      ]
    },
    {
      "cell_type": "code",
      "metadata": {
        "colab": {
          "base_uri": "https://localhost:8080/",
          "height": 234
        },
        "id": "FFQGPniqZM3K",
        "outputId": "92b729a7-b0f6-4790-8f89-eec2f4b05b01"
      },
      "source": [
        "# For even more fine-grained control, you can also group by more than one column\n",
        "read.groupby(['Name', 'Address']).apply(lambda df: df.loc[df.Marks.idxmax()])"
      ],
      "execution_count": 40,
      "outputs": [
        {
          "output_type": "execute_result",
          "data": {
            "text/html": [
              "<div>\n",
              "<style scoped>\n",
              "    .dataframe tbody tr th:only-of-type {\n",
              "        vertical-align: middle;\n",
              "    }\n",
              "\n",
              "    .dataframe tbody tr th {\n",
              "        vertical-align: top;\n",
              "    }\n",
              "\n",
              "    .dataframe thead th {\n",
              "        text-align: right;\n",
              "    }\n",
              "</style>\n",
              "<table border=\"1\" class=\"dataframe\">\n",
              "  <thead>\n",
              "    <tr style=\"text-align: right;\">\n",
              "      <th></th>\n",
              "      <th></th>\n",
              "      <th>Name</th>\n",
              "      <th>Marks</th>\n",
              "      <th>Address</th>\n",
              "      <th>Status</th>\n",
              "      <th>index_backwards</th>\n",
              "    </tr>\n",
              "    <tr>\n",
              "      <th>Name</th>\n",
              "      <th>Address</th>\n",
              "      <th></th>\n",
              "      <th></th>\n",
              "      <th></th>\n",
              "      <th></th>\n",
              "      <th></th>\n",
              "    </tr>\n",
              "  </thead>\n",
              "  <tbody>\n",
              "    <tr>\n",
              "      <th>Anamika</th>\n",
              "      <th>Mymensingh</th>\n",
              "      <td>Anamika</td>\n",
              "      <td>60</td>\n",
              "      <td>Mymensingh</td>\n",
              "      <td>Good</td>\n",
              "      <td>3</td>\n",
              "    </tr>\n",
              "    <tr>\n",
              "      <th>Nasim</th>\n",
              "      <th>Rajshahi</th>\n",
              "      <td>Nasim</td>\n",
              "      <td>55</td>\n",
              "      <td>Rajshahi</td>\n",
              "      <td>Good</td>\n",
              "      <td>4</td>\n",
              "    </tr>\n",
              "    <tr>\n",
              "      <th>Real</th>\n",
              "      <th>Cumilla</th>\n",
              "      <td>Real</td>\n",
              "      <td>50</td>\n",
              "      <td>Cumilla</td>\n",
              "      <td>Good</td>\n",
              "      <td>5</td>\n",
              "    </tr>\n",
              "    <tr>\n",
              "      <th>Tusher</th>\n",
              "      <th>Dhaka</th>\n",
              "      <td>Tusher</td>\n",
              "      <td>70</td>\n",
              "      <td>Dhaka</td>\n",
              "      <td>Good</td>\n",
              "      <td>2</td>\n",
              "    </tr>\n",
              "    <tr>\n",
              "      <th>Zubaer</th>\n",
              "      <th>Jessore</th>\n",
              "      <td>Zubaer</td>\n",
              "      <td>75</td>\n",
              "      <td>Jessore</td>\n",
              "      <td>Good</td>\n",
              "      <td>1</td>\n",
              "    </tr>\n",
              "  </tbody>\n",
              "</table>\n",
              "</div>"
            ],
            "text/plain": [
              "                       Name  Marks     Address Status  index_backwards\n",
              "Name    Address                                                       \n",
              "Anamika Mymensingh  Anamika     60  Mymensingh   Good                3\n",
              "Nasim   Rajshahi      Nasim     55    Rajshahi   Good                4\n",
              "Real    Cumilla        Real     50     Cumilla   Good                5\n",
              "Tusher  Dhaka        Tusher     70       Dhaka   Good                2\n",
              "Zubaer  Jessore      Zubaer     75     Jessore   Good                1"
            ]
          },
          "metadata": {},
          "execution_count": 40
        }
      ]
    },
    {
      "cell_type": "code",
      "metadata": {
        "colab": {
          "base_uri": "https://localhost:8080/",
          "height": 234
        },
        "id": "O9sCplluZmiW",
        "outputId": "2578dd9c-237a-4f84-c31d-318b1c6620ba"
      },
      "source": [
        "# Another groupby() method worth mentioning is agg(), which lets you run a\n",
        "# bunch of different functions on your DataFrame simultaneously.\n",
        "read.groupby(['Name']).Marks.agg([len, min, max])"
      ],
      "execution_count": 41,
      "outputs": [
        {
          "output_type": "execute_result",
          "data": {
            "text/html": [
              "<div>\n",
              "<style scoped>\n",
              "    .dataframe tbody tr th:only-of-type {\n",
              "        vertical-align: middle;\n",
              "    }\n",
              "\n",
              "    .dataframe tbody tr th {\n",
              "        vertical-align: top;\n",
              "    }\n",
              "\n",
              "    .dataframe thead th {\n",
              "        text-align: right;\n",
              "    }\n",
              "</style>\n",
              "<table border=\"1\" class=\"dataframe\">\n",
              "  <thead>\n",
              "    <tr style=\"text-align: right;\">\n",
              "      <th></th>\n",
              "      <th>len</th>\n",
              "      <th>min</th>\n",
              "      <th>max</th>\n",
              "    </tr>\n",
              "    <tr>\n",
              "      <th>Name</th>\n",
              "      <th></th>\n",
              "      <th></th>\n",
              "      <th></th>\n",
              "    </tr>\n",
              "  </thead>\n",
              "  <tbody>\n",
              "    <tr>\n",
              "      <th>Anamika</th>\n",
              "      <td>1</td>\n",
              "      <td>60</td>\n",
              "      <td>60</td>\n",
              "    </tr>\n",
              "    <tr>\n",
              "      <th>Nasim</th>\n",
              "      <td>1</td>\n",
              "      <td>55</td>\n",
              "      <td>55</td>\n",
              "    </tr>\n",
              "    <tr>\n",
              "      <th>Real</th>\n",
              "      <td>1</td>\n",
              "      <td>50</td>\n",
              "      <td>50</td>\n",
              "    </tr>\n",
              "    <tr>\n",
              "      <th>Tusher</th>\n",
              "      <td>1</td>\n",
              "      <td>70</td>\n",
              "      <td>70</td>\n",
              "    </tr>\n",
              "    <tr>\n",
              "      <th>Zubaer</th>\n",
              "      <td>1</td>\n",
              "      <td>75</td>\n",
              "      <td>75</td>\n",
              "    </tr>\n",
              "  </tbody>\n",
              "</table>\n",
              "</div>"
            ],
            "text/plain": [
              "         len  min  max\n",
              "Name                  \n",
              "Anamika    1   60   60\n",
              "Nasim      1   55   55\n",
              "Real       1   50   50\n",
              "Tusher     1   70   70\n",
              "Zubaer     1   75   75"
            ]
          },
          "metadata": {},
          "execution_count": 41
        }
      ]
    },
    {
      "cell_type": "code",
      "metadata": {
        "colab": {
          "base_uri": "https://localhost:8080/",
          "height": 234
        },
        "id": "2tl5EuEzdr8B",
        "outputId": "6b469821-9a0a-4091-f23e-082e890eac31"
      },
      "source": [
        "# A multi-index differs from a regular index in that it has multiple levels\n",
        "Name_read = read.groupby(['Name', 'Marks']).Address.agg([len])\n",
        "Name_read"
      ],
      "execution_count": 42,
      "outputs": [
        {
          "output_type": "execute_result",
          "data": {
            "text/html": [
              "<div>\n",
              "<style scoped>\n",
              "    .dataframe tbody tr th:only-of-type {\n",
              "        vertical-align: middle;\n",
              "    }\n",
              "\n",
              "    .dataframe tbody tr th {\n",
              "        vertical-align: top;\n",
              "    }\n",
              "\n",
              "    .dataframe thead th {\n",
              "        text-align: right;\n",
              "    }\n",
              "</style>\n",
              "<table border=\"1\" class=\"dataframe\">\n",
              "  <thead>\n",
              "    <tr style=\"text-align: right;\">\n",
              "      <th></th>\n",
              "      <th></th>\n",
              "      <th>len</th>\n",
              "    </tr>\n",
              "    <tr>\n",
              "      <th>Name</th>\n",
              "      <th>Marks</th>\n",
              "      <th></th>\n",
              "    </tr>\n",
              "  </thead>\n",
              "  <tbody>\n",
              "    <tr>\n",
              "      <th>Anamika</th>\n",
              "      <th>60</th>\n",
              "      <td>1</td>\n",
              "    </tr>\n",
              "    <tr>\n",
              "      <th>Nasim</th>\n",
              "      <th>55</th>\n",
              "      <td>1</td>\n",
              "    </tr>\n",
              "    <tr>\n",
              "      <th>Real</th>\n",
              "      <th>50</th>\n",
              "      <td>1</td>\n",
              "    </tr>\n",
              "    <tr>\n",
              "      <th>Tusher</th>\n",
              "      <th>70</th>\n",
              "      <td>1</td>\n",
              "    </tr>\n",
              "    <tr>\n",
              "      <th>Zubaer</th>\n",
              "      <th>75</th>\n",
              "      <td>1</td>\n",
              "    </tr>\n",
              "  </tbody>\n",
              "</table>\n",
              "</div>"
            ],
            "text/plain": [
              "               len\n",
              "Name    Marks     \n",
              "Anamika 60       1\n",
              "Nasim   55       1\n",
              "Real    50       1\n",
              "Tusher  70       1\n",
              "Zubaer  75       1"
            ]
          },
          "metadata": {},
          "execution_count": 42
        }
      ]
    },
    {
      "cell_type": "code",
      "metadata": {
        "colab": {
          "base_uri": "https://localhost:8080/"
        },
        "id": "E5AAbW9vGjfj",
        "outputId": "f6187714-041f-4f06-a0fe-f01862ba2314"
      },
      "source": [
        "mi = Name_read.index\n",
        "type(mi)"
      ],
      "execution_count": 43,
      "outputs": [
        {
          "output_type": "execute_result",
          "data": {
            "text/plain": [
              "pandas.core.indexes.multi.MultiIndex"
            ]
          },
          "metadata": {},
          "execution_count": 43
        }
      ]
    },
    {
      "cell_type": "code",
      "metadata": {
        "colab": {
          "base_uri": "https://localhost:8080/",
          "height": 203
        },
        "id": "oSEQtwRjsfmb",
        "outputId": "041146f9-ee9b-4cfe-9e41-5d2b706b8040"
      },
      "source": [
        "# To get data in the order want it in we can sort it ourselves. The sort_values() method is handy for this.\n",
        "Name_read = Name_read.reset_index()\n",
        "Name_read.sort_values(by='len')"
      ],
      "execution_count": 44,
      "outputs": [
        {
          "output_type": "execute_result",
          "data": {
            "text/html": [
              "<div>\n",
              "<style scoped>\n",
              "    .dataframe tbody tr th:only-of-type {\n",
              "        vertical-align: middle;\n",
              "    }\n",
              "\n",
              "    .dataframe tbody tr th {\n",
              "        vertical-align: top;\n",
              "    }\n",
              "\n",
              "    .dataframe thead th {\n",
              "        text-align: right;\n",
              "    }\n",
              "</style>\n",
              "<table border=\"1\" class=\"dataframe\">\n",
              "  <thead>\n",
              "    <tr style=\"text-align: right;\">\n",
              "      <th></th>\n",
              "      <th>Name</th>\n",
              "      <th>Marks</th>\n",
              "      <th>len</th>\n",
              "    </tr>\n",
              "  </thead>\n",
              "  <tbody>\n",
              "    <tr>\n",
              "      <th>0</th>\n",
              "      <td>Anamika</td>\n",
              "      <td>60</td>\n",
              "      <td>1</td>\n",
              "    </tr>\n",
              "    <tr>\n",
              "      <th>1</th>\n",
              "      <td>Nasim</td>\n",
              "      <td>55</td>\n",
              "      <td>1</td>\n",
              "    </tr>\n",
              "    <tr>\n",
              "      <th>2</th>\n",
              "      <td>Real</td>\n",
              "      <td>50</td>\n",
              "      <td>1</td>\n",
              "    </tr>\n",
              "    <tr>\n",
              "      <th>3</th>\n",
              "      <td>Tusher</td>\n",
              "      <td>70</td>\n",
              "      <td>1</td>\n",
              "    </tr>\n",
              "    <tr>\n",
              "      <th>4</th>\n",
              "      <td>Zubaer</td>\n",
              "      <td>75</td>\n",
              "      <td>1</td>\n",
              "    </tr>\n",
              "  </tbody>\n",
              "</table>\n",
              "</div>"
            ],
            "text/plain": [
              "      Name  Marks  len\n",
              "0  Anamika     60    1\n",
              "1    Nasim     55    1\n",
              "2     Real     50    1\n",
              "3   Tusher     70    1\n",
              "4   Zubaer     75    1"
            ]
          },
          "metadata": {},
          "execution_count": 44
        }
      ]
    },
    {
      "cell_type": "code",
      "metadata": {
        "colab": {
          "base_uri": "https://localhost:8080/",
          "height": 203
        },
        "id": "1SyFWS1mtWNs",
        "outputId": "97aaaab7-f59f-40e0-8e66-7b6eedc5ae56"
      },
      "source": [
        "Name_read.sort_values(by='len', ascending= False)"
      ],
      "execution_count": 45,
      "outputs": [
        {
          "output_type": "execute_result",
          "data": {
            "text/html": [
              "<div>\n",
              "<style scoped>\n",
              "    .dataframe tbody tr th:only-of-type {\n",
              "        vertical-align: middle;\n",
              "    }\n",
              "\n",
              "    .dataframe tbody tr th {\n",
              "        vertical-align: top;\n",
              "    }\n",
              "\n",
              "    .dataframe thead th {\n",
              "        text-align: right;\n",
              "    }\n",
              "</style>\n",
              "<table border=\"1\" class=\"dataframe\">\n",
              "  <thead>\n",
              "    <tr style=\"text-align: right;\">\n",
              "      <th></th>\n",
              "      <th>Name</th>\n",
              "      <th>Marks</th>\n",
              "      <th>len</th>\n",
              "    </tr>\n",
              "  </thead>\n",
              "  <tbody>\n",
              "    <tr>\n",
              "      <th>0</th>\n",
              "      <td>Anamika</td>\n",
              "      <td>60</td>\n",
              "      <td>1</td>\n",
              "    </tr>\n",
              "    <tr>\n",
              "      <th>1</th>\n",
              "      <td>Nasim</td>\n",
              "      <td>55</td>\n",
              "      <td>1</td>\n",
              "    </tr>\n",
              "    <tr>\n",
              "      <th>2</th>\n",
              "      <td>Real</td>\n",
              "      <td>50</td>\n",
              "      <td>1</td>\n",
              "    </tr>\n",
              "    <tr>\n",
              "      <th>3</th>\n",
              "      <td>Tusher</td>\n",
              "      <td>70</td>\n",
              "      <td>1</td>\n",
              "    </tr>\n",
              "    <tr>\n",
              "      <th>4</th>\n",
              "      <td>Zubaer</td>\n",
              "      <td>75</td>\n",
              "      <td>1</td>\n",
              "    </tr>\n",
              "  </tbody>\n",
              "</table>\n",
              "</div>"
            ],
            "text/plain": [
              "      Name  Marks  len\n",
              "0  Anamika     60    1\n",
              "1    Nasim     55    1\n",
              "2     Real     50    1\n",
              "3   Tusher     70    1\n",
              "4   Zubaer     75    1"
            ]
          },
          "metadata": {},
          "execution_count": 45
        }
      ]
    },
    {
      "cell_type": "code",
      "metadata": {
        "colab": {
          "base_uri": "https://localhost:8080/",
          "height": 203
        },
        "id": "pCjmH0IBvoCd",
        "outputId": "eb85a29d-bc62-4d3d-a4d6-a030b68c5a67"
      },
      "source": [
        "Name_read.sort_index()"
      ],
      "execution_count": 46,
      "outputs": [
        {
          "output_type": "execute_result",
          "data": {
            "text/html": [
              "<div>\n",
              "<style scoped>\n",
              "    .dataframe tbody tr th:only-of-type {\n",
              "        vertical-align: middle;\n",
              "    }\n",
              "\n",
              "    .dataframe tbody tr th {\n",
              "        vertical-align: top;\n",
              "    }\n",
              "\n",
              "    .dataframe thead th {\n",
              "        text-align: right;\n",
              "    }\n",
              "</style>\n",
              "<table border=\"1\" class=\"dataframe\">\n",
              "  <thead>\n",
              "    <tr style=\"text-align: right;\">\n",
              "      <th></th>\n",
              "      <th>Name</th>\n",
              "      <th>Marks</th>\n",
              "      <th>len</th>\n",
              "    </tr>\n",
              "  </thead>\n",
              "  <tbody>\n",
              "    <tr>\n",
              "      <th>0</th>\n",
              "      <td>Anamika</td>\n",
              "      <td>60</td>\n",
              "      <td>1</td>\n",
              "    </tr>\n",
              "    <tr>\n",
              "      <th>1</th>\n",
              "      <td>Nasim</td>\n",
              "      <td>55</td>\n",
              "      <td>1</td>\n",
              "    </tr>\n",
              "    <tr>\n",
              "      <th>2</th>\n",
              "      <td>Real</td>\n",
              "      <td>50</td>\n",
              "      <td>1</td>\n",
              "    </tr>\n",
              "    <tr>\n",
              "      <th>3</th>\n",
              "      <td>Tusher</td>\n",
              "      <td>70</td>\n",
              "      <td>1</td>\n",
              "    </tr>\n",
              "    <tr>\n",
              "      <th>4</th>\n",
              "      <td>Zubaer</td>\n",
              "      <td>75</td>\n",
              "      <td>1</td>\n",
              "    </tr>\n",
              "  </tbody>\n",
              "</table>\n",
              "</div>"
            ],
            "text/plain": [
              "      Name  Marks  len\n",
              "0  Anamika     60    1\n",
              "1    Nasim     55    1\n",
              "2     Real     50    1\n",
              "3   Tusher     70    1\n",
              "4   Zubaer     75    1"
            ]
          },
          "metadata": {},
          "execution_count": 46
        }
      ]
    },
    {
      "cell_type": "code",
      "metadata": {
        "colab": {
          "base_uri": "https://localhost:8080/",
          "height": 203
        },
        "id": "-mr7Xcrwvxcp",
        "outputId": "07f419ae-5c6e-4ebb-8e46-8c04cdf726e1"
      },
      "source": [
        "# know that you can sort by more than one column at a time\n",
        "Name_read.sort_values(by=['Name','len'])"
      ],
      "execution_count": 47,
      "outputs": [
        {
          "output_type": "execute_result",
          "data": {
            "text/html": [
              "<div>\n",
              "<style scoped>\n",
              "    .dataframe tbody tr th:only-of-type {\n",
              "        vertical-align: middle;\n",
              "    }\n",
              "\n",
              "    .dataframe tbody tr th {\n",
              "        vertical-align: top;\n",
              "    }\n",
              "\n",
              "    .dataframe thead th {\n",
              "        text-align: right;\n",
              "    }\n",
              "</style>\n",
              "<table border=\"1\" class=\"dataframe\">\n",
              "  <thead>\n",
              "    <tr style=\"text-align: right;\">\n",
              "      <th></th>\n",
              "      <th>Name</th>\n",
              "      <th>Marks</th>\n",
              "      <th>len</th>\n",
              "    </tr>\n",
              "  </thead>\n",
              "  <tbody>\n",
              "    <tr>\n",
              "      <th>0</th>\n",
              "      <td>Anamika</td>\n",
              "      <td>60</td>\n",
              "      <td>1</td>\n",
              "    </tr>\n",
              "    <tr>\n",
              "      <th>1</th>\n",
              "      <td>Nasim</td>\n",
              "      <td>55</td>\n",
              "      <td>1</td>\n",
              "    </tr>\n",
              "    <tr>\n",
              "      <th>2</th>\n",
              "      <td>Real</td>\n",
              "      <td>50</td>\n",
              "      <td>1</td>\n",
              "    </tr>\n",
              "    <tr>\n",
              "      <th>3</th>\n",
              "      <td>Tusher</td>\n",
              "      <td>70</td>\n",
              "      <td>1</td>\n",
              "    </tr>\n",
              "    <tr>\n",
              "      <th>4</th>\n",
              "      <td>Zubaer</td>\n",
              "      <td>75</td>\n",
              "      <td>1</td>\n",
              "    </tr>\n",
              "  </tbody>\n",
              "</table>\n",
              "</div>"
            ],
            "text/plain": [
              "      Name  Marks  len\n",
              "0  Anamika     60    1\n",
              "1    Nasim     55    1\n",
              "2     Real     50    1\n",
              "3   Tusher     70    1\n",
              "4   Zubaer     75    1"
            ]
          },
          "metadata": {},
          "execution_count": 47
        }
      ]
    },
    {
      "cell_type": "code",
      "metadata": {
        "colab": {
          "base_uri": "https://localhost:8080/"
        },
        "id": "4YSt2R8pmmpY",
        "outputId": "e389fa3a-1018-485a-a76c-37cb751d759a"
      },
      "source": [
        "# The data type for a column in a DataFrame or a Series is known as the dtype.\n",
        "read.Marks.dtype"
      ],
      "execution_count": 48,
      "outputs": [
        {
          "output_type": "execute_result",
          "data": {
            "text/plain": [
              "dtype('int64')"
            ]
          },
          "metadata": {},
          "execution_count": 48
        }
      ]
    },
    {
      "cell_type": "code",
      "metadata": {
        "colab": {
          "base_uri": "https://localhost:8080/"
        },
        "id": "f3INAE4BnUYv",
        "outputId": "fe6b91e4-2eb0-474a-daf6-1a77fccc9950"
      },
      "source": [
        "# the dtypes property returns the dtype of every column in the DataFrame.\n",
        "read.dtypes"
      ],
      "execution_count": 50,
      "outputs": [
        {
          "output_type": "execute_result",
          "data": {
            "text/plain": [
              "Name               object\n",
              "Marks               int64\n",
              "Address            object\n",
              "Status             object\n",
              "index_backwards     int64\n",
              "dtype: object"
            ]
          },
          "metadata": {},
          "execution_count": 50
        }
      ]
    },
    {
      "cell_type": "code",
      "metadata": {
        "colab": {
          "base_uri": "https://localhost:8080/"
        },
        "id": "d5ihvQLNnfRv",
        "outputId": "02af6295-c809-44ab-b7be-189a4781fa4a"
      },
      "source": [
        "# converting the datetype using astype()\n",
        "read.Marks.astype('float64')"
      ],
      "execution_count": 51,
      "outputs": [
        {
          "output_type": "execute_result",
          "data": {
            "text/plain": [
              "0    50.0\n",
              "1    55.0\n",
              "2    60.0\n",
              "3    70.0\n",
              "4    75.0\n",
              "Name: Marks, dtype: float64"
            ]
          },
          "metadata": {},
          "execution_count": 51
        }
      ]
    },
    {
      "cell_type": "code",
      "metadata": {
        "colab": {
          "base_uri": "https://localhost:8080/"
        },
        "id": "AzcEpy49oDkW",
        "outputId": "734c76bf-a049-4bae-a1c4-9891f4008489"
      },
      "source": [
        "# A DataFrame or Series index has its own dtype\n",
        "read.index.dtype"
      ],
      "execution_count": 52,
      "outputs": [
        {
          "output_type": "execute_result",
          "data": {
            "text/plain": [
              "dtype('int64')"
            ]
          },
          "metadata": {},
          "execution_count": 52
        }
      ]
    },
    {
      "cell_type": "code",
      "metadata": {
        "colab": {
          "base_uri": "https://localhost:8080/",
          "height": 49
        },
        "id": "srbZOK7nojYO",
        "outputId": "fdea49b0-cfe3-4868-be64-6ffc1f7da2fa"
      },
      "source": [
        "# Pandas provides some methods specific to missing data.\n",
        "# To select NaN entries you can use pd.isnull()\n",
        "# (or its companion pd.notnull()).\n",
        "read[pd.isnull(read.Name)]"
      ],
      "execution_count": 53,
      "outputs": [
        {
          "output_type": "execute_result",
          "data": {
            "text/html": [
              "<div>\n",
              "<style scoped>\n",
              "    .dataframe tbody tr th:only-of-type {\n",
              "        vertical-align: middle;\n",
              "    }\n",
              "\n",
              "    .dataframe tbody tr th {\n",
              "        vertical-align: top;\n",
              "    }\n",
              "\n",
              "    .dataframe thead th {\n",
              "        text-align: right;\n",
              "    }\n",
              "</style>\n",
              "<table border=\"1\" class=\"dataframe\">\n",
              "  <thead>\n",
              "    <tr style=\"text-align: right;\">\n",
              "      <th></th>\n",
              "      <th>Name</th>\n",
              "      <th>Marks</th>\n",
              "      <th>Address</th>\n",
              "      <th>Status</th>\n",
              "      <th>index_backwards</th>\n",
              "    </tr>\n",
              "  </thead>\n",
              "  <tbody>\n",
              "  </tbody>\n",
              "</table>\n",
              "</div>"
            ],
            "text/plain": [
              "Empty DataFrame\n",
              "Columns: [Name, Marks, Address, Status, index_backwards]\n",
              "Index: []"
            ]
          },
          "metadata": {},
          "execution_count": 53
        }
      ]
    },
    {
      "cell_type": "code",
      "metadata": {
        "colab": {
          "base_uri": "https://localhost:8080/"
        },
        "id": "LWg2dBIRo-_H",
        "outputId": "6c650fab-8863-46ce-b6b6-76fffc0cd0b1"
      },
      "source": [
        "# Replacing missing values is a common operation. Pandas provides a really handy method for this problem: fillna(). fillna() provides a few different strategies for mitigating such data.\n",
        "read.Name.fillna(\"Unknown\")"
      ],
      "execution_count": 55,
      "outputs": [
        {
          "output_type": "execute_result",
          "data": {
            "text/plain": [
              "0       Real\n",
              "1      Nasim\n",
              "2    Anamika\n",
              "3     Tusher\n",
              "4     Zubaer\n",
              "Name: Name, dtype: object"
            ]
          },
          "metadata": {},
          "execution_count": 55
        }
      ]
    },
    {
      "cell_type": "code",
      "metadata": {
        "colab": {
          "base_uri": "https://localhost:8080/"
        },
        "id": "9Kq1cDqPpmtf",
        "outputId": "fcde8665-d9b3-4ddd-b812-c6721f1599e0"
      },
      "source": [
        "# if we dont have null value we can use replace  method\n",
        "read.Name.replace('Zubaer','Arman')"
      ],
      "execution_count": 58,
      "outputs": [
        {
          "output_type": "execute_result",
          "data": {
            "text/plain": [
              "0       Real\n",
              "1      Nasim\n",
              "2    Anamika\n",
              "3     Tusher\n",
              "4      Arman\n",
              "Name: Name, dtype: object"
            ]
          },
          "metadata": {},
          "execution_count": 58
        }
      ]
    },
    {
      "cell_type": "code",
      "metadata": {
        "colab": {
          "base_uri": "https://localhost:8080/",
          "height": 203
        },
        "id": "UNdngxtbCgkE",
        "outputId": "85821eeb-52c0-45f6-f5e9-4c6355a02e9b"
      },
      "source": [
        "# rename the column name\n",
        "read.rename(columns={'Marks':'Score'})"
      ],
      "execution_count": 59,
      "outputs": [
        {
          "output_type": "execute_result",
          "data": {
            "text/html": [
              "<div>\n",
              "<style scoped>\n",
              "    .dataframe tbody tr th:only-of-type {\n",
              "        vertical-align: middle;\n",
              "    }\n",
              "\n",
              "    .dataframe tbody tr th {\n",
              "        vertical-align: top;\n",
              "    }\n",
              "\n",
              "    .dataframe thead th {\n",
              "        text-align: right;\n",
              "    }\n",
              "</style>\n",
              "<table border=\"1\" class=\"dataframe\">\n",
              "  <thead>\n",
              "    <tr style=\"text-align: right;\">\n",
              "      <th></th>\n",
              "      <th>Name</th>\n",
              "      <th>Score</th>\n",
              "      <th>Address</th>\n",
              "      <th>Status</th>\n",
              "      <th>index_backwards</th>\n",
              "    </tr>\n",
              "  </thead>\n",
              "  <tbody>\n",
              "    <tr>\n",
              "      <th>0</th>\n",
              "      <td>Real</td>\n",
              "      <td>50</td>\n",
              "      <td>Cumilla</td>\n",
              "      <td>Good</td>\n",
              "      <td>5</td>\n",
              "    </tr>\n",
              "    <tr>\n",
              "      <th>1</th>\n",
              "      <td>Nasim</td>\n",
              "      <td>55</td>\n",
              "      <td>Rajshahi</td>\n",
              "      <td>Good</td>\n",
              "      <td>4</td>\n",
              "    </tr>\n",
              "    <tr>\n",
              "      <th>2</th>\n",
              "      <td>Anamika</td>\n",
              "      <td>60</td>\n",
              "      <td>Mymensingh</td>\n",
              "      <td>Good</td>\n",
              "      <td>3</td>\n",
              "    </tr>\n",
              "    <tr>\n",
              "      <th>3</th>\n",
              "      <td>Tusher</td>\n",
              "      <td>70</td>\n",
              "      <td>Dhaka</td>\n",
              "      <td>Good</td>\n",
              "      <td>2</td>\n",
              "    </tr>\n",
              "    <tr>\n",
              "      <th>4</th>\n",
              "      <td>Zubaer</td>\n",
              "      <td>75</td>\n",
              "      <td>Jessore</td>\n",
              "      <td>Good</td>\n",
              "      <td>1</td>\n",
              "    </tr>\n",
              "  </tbody>\n",
              "</table>\n",
              "</div>"
            ],
            "text/plain": [
              "      Name  Score     Address Status  index_backwards\n",
              "0     Real     50     Cumilla   Good                5\n",
              "1    Nasim     55    Rajshahi   Good                4\n",
              "2  Anamika     60  Mymensingh   Good                3\n",
              "3   Tusher     70       Dhaka   Good                2\n",
              "4   Zubaer     75     Jessore   Good                1"
            ]
          },
          "metadata": {},
          "execution_count": 59
        }
      ]
    },
    {
      "cell_type": "code",
      "metadata": {
        "colab": {
          "base_uri": "https://localhost:8080/",
          "height": 203
        },
        "id": "BFBd_lPjC0Gy",
        "outputId": "795eed87-2515-4672-efcd-510cfb1b05fb"
      },
      "source": [
        "# rename the inedex name also but 'set_index()' method is usually more convenient\n",
        "read.rename(index={0 : 'firstEntry', 1 : 'secondEntry'})"
      ],
      "execution_count": 60,
      "outputs": [
        {
          "output_type": "execute_result",
          "data": {
            "text/html": [
              "<div>\n",
              "<style scoped>\n",
              "    .dataframe tbody tr th:only-of-type {\n",
              "        vertical-align: middle;\n",
              "    }\n",
              "\n",
              "    .dataframe tbody tr th {\n",
              "        vertical-align: top;\n",
              "    }\n",
              "\n",
              "    .dataframe thead th {\n",
              "        text-align: right;\n",
              "    }\n",
              "</style>\n",
              "<table border=\"1\" class=\"dataframe\">\n",
              "  <thead>\n",
              "    <tr style=\"text-align: right;\">\n",
              "      <th></th>\n",
              "      <th>Name</th>\n",
              "      <th>Marks</th>\n",
              "      <th>Address</th>\n",
              "      <th>Status</th>\n",
              "      <th>index_backwards</th>\n",
              "    </tr>\n",
              "  </thead>\n",
              "  <tbody>\n",
              "    <tr>\n",
              "      <th>firstEntry</th>\n",
              "      <td>Real</td>\n",
              "      <td>50</td>\n",
              "      <td>Cumilla</td>\n",
              "      <td>Good</td>\n",
              "      <td>5</td>\n",
              "    </tr>\n",
              "    <tr>\n",
              "      <th>secondEntry</th>\n",
              "      <td>Nasim</td>\n",
              "      <td>55</td>\n",
              "      <td>Rajshahi</td>\n",
              "      <td>Good</td>\n",
              "      <td>4</td>\n",
              "    </tr>\n",
              "    <tr>\n",
              "      <th>2</th>\n",
              "      <td>Anamika</td>\n",
              "      <td>60</td>\n",
              "      <td>Mymensingh</td>\n",
              "      <td>Good</td>\n",
              "      <td>3</td>\n",
              "    </tr>\n",
              "    <tr>\n",
              "      <th>3</th>\n",
              "      <td>Tusher</td>\n",
              "      <td>70</td>\n",
              "      <td>Dhaka</td>\n",
              "      <td>Good</td>\n",
              "      <td>2</td>\n",
              "    </tr>\n",
              "    <tr>\n",
              "      <th>4</th>\n",
              "      <td>Zubaer</td>\n",
              "      <td>75</td>\n",
              "      <td>Jessore</td>\n",
              "      <td>Good</td>\n",
              "      <td>1</td>\n",
              "    </tr>\n",
              "  </tbody>\n",
              "</table>\n",
              "</div>"
            ],
            "text/plain": [
              "                Name  Marks     Address Status  index_backwards\n",
              "firstEntry      Real     50     Cumilla   Good                5\n",
              "secondEntry    Nasim     55    Rajshahi   Good                4\n",
              "2            Anamika     60  Mymensingh   Good                3\n",
              "3             Tusher     70       Dhaka   Good                2\n",
              "4             Zubaer     75     Jessore   Good                1"
            ]
          },
          "metadata": {},
          "execution_count": 60
        }
      ]
    },
    {
      "cell_type": "code",
      "metadata": {
        "colab": {
          "base_uri": "https://localhost:8080/",
          "height": 234
        },
        "id": "mZ_UlQctDbit",
        "outputId": "537478bc-16ac-40ec-9329-8ff1e44169cd"
      },
      "source": [
        "read.rename_axis(\"serial\", axis='rows').rename_axis('fields', axis='columns')"
      ],
      "execution_count": 62,
      "outputs": [
        {
          "output_type": "execute_result",
          "data": {
            "text/html": [
              "<div>\n",
              "<style scoped>\n",
              "    .dataframe tbody tr th:only-of-type {\n",
              "        vertical-align: middle;\n",
              "    }\n",
              "\n",
              "    .dataframe tbody tr th {\n",
              "        vertical-align: top;\n",
              "    }\n",
              "\n",
              "    .dataframe thead th {\n",
              "        text-align: right;\n",
              "    }\n",
              "</style>\n",
              "<table border=\"1\" class=\"dataframe\">\n",
              "  <thead>\n",
              "    <tr style=\"text-align: right;\">\n",
              "      <th>fields</th>\n",
              "      <th>Name</th>\n",
              "      <th>Marks</th>\n",
              "      <th>Address</th>\n",
              "      <th>Status</th>\n",
              "      <th>index_backwards</th>\n",
              "    </tr>\n",
              "    <tr>\n",
              "      <th>serial</th>\n",
              "      <th></th>\n",
              "      <th></th>\n",
              "      <th></th>\n",
              "      <th></th>\n",
              "      <th></th>\n",
              "    </tr>\n",
              "  </thead>\n",
              "  <tbody>\n",
              "    <tr>\n",
              "      <th>0</th>\n",
              "      <td>Real</td>\n",
              "      <td>50</td>\n",
              "      <td>Cumilla</td>\n",
              "      <td>Good</td>\n",
              "      <td>5</td>\n",
              "    </tr>\n",
              "    <tr>\n",
              "      <th>1</th>\n",
              "      <td>Nasim</td>\n",
              "      <td>55</td>\n",
              "      <td>Rajshahi</td>\n",
              "      <td>Good</td>\n",
              "      <td>4</td>\n",
              "    </tr>\n",
              "    <tr>\n",
              "      <th>2</th>\n",
              "      <td>Anamika</td>\n",
              "      <td>60</td>\n",
              "      <td>Mymensingh</td>\n",
              "      <td>Good</td>\n",
              "      <td>3</td>\n",
              "    </tr>\n",
              "    <tr>\n",
              "      <th>3</th>\n",
              "      <td>Tusher</td>\n",
              "      <td>70</td>\n",
              "      <td>Dhaka</td>\n",
              "      <td>Good</td>\n",
              "      <td>2</td>\n",
              "    </tr>\n",
              "    <tr>\n",
              "      <th>4</th>\n",
              "      <td>Zubaer</td>\n",
              "      <td>75</td>\n",
              "      <td>Jessore</td>\n",
              "      <td>Good</td>\n",
              "      <td>1</td>\n",
              "    </tr>\n",
              "  </tbody>\n",
              "</table>\n",
              "</div>"
            ],
            "text/plain": [
              "fields     Name  Marks     Address Status  index_backwards\n",
              "serial                                                    \n",
              "0          Real     50     Cumilla   Good                5\n",
              "1         Nasim     55    Rajshahi   Good                4\n",
              "2       Anamika     60  Mymensingh   Good                3\n",
              "3        Tusher     70       Dhaka   Good                2\n",
              "4        Zubaer     75     Jessore   Good                1"
            ]
          },
          "metadata": {},
          "execution_count": 62
        }
      ]
    },
    {
      "cell_type": "code",
      "metadata": {
        "colab": {
          "base_uri": "https://localhost:8080/",
          "height": 232
        },
        "id": "LvmzKTTiGBdr",
        "outputId": "b15e68e9-e1a6-4f57-9b34-5fca2b78fc1f"
      },
      "source": [
        "# Pandas has three core methods for doing this. In order of increasing complexity, these are concat(), join(), and merge(). Most of what merge() can do can also be done more simply with join()\n",
        "# The simplest combining method is concat()\n",
        "info.to_csv(\"Student2.csv\")\n",
        "read2 = pd.read_csv(\"/content/Student2.csv\")\n",
        "read2\n",
        "pd.concat([read, read])"
      ],
      "execution_count": 70,
      "outputs": [
        {
          "output_type": "execute_result",
          "data": {
            "text/html": [
              "<div>\n",
              "<style scoped>\n",
              "    .dataframe tbody tr th:only-of-type {\n",
              "        vertical-align: middle;\n",
              "    }\n",
              "\n",
              "    .dataframe tbody tr th {\n",
              "        vertical-align: top;\n",
              "    }\n",
              "\n",
              "    .dataframe thead th {\n",
              "        text-align: right;\n",
              "    }\n",
              "</style>\n",
              "<table border=\"1\" class=\"dataframe\">\n",
              "  <thead>\n",
              "    <tr style=\"text-align: right;\">\n",
              "      <th></th>\n",
              "      <th>Name</th>\n",
              "      <th>Marks</th>\n",
              "      <th>Address</th>\n",
              "      <th>Status</th>\n",
              "      <th>index_backwards</th>\n",
              "    </tr>\n",
              "  </thead>\n",
              "  <tbody>\n",
              "    <tr>\n",
              "      <th>0</th>\n",
              "      <td>Real</td>\n",
              "      <td>50</td>\n",
              "      <td>Cumilla</td>\n",
              "      <td>Good</td>\n",
              "      <td>5</td>\n",
              "    </tr>\n",
              "    <tr>\n",
              "      <th>1</th>\n",
              "      <td>Nasim</td>\n",
              "      <td>55</td>\n",
              "      <td>Rajshahi</td>\n",
              "      <td>Good</td>\n",
              "      <td>4</td>\n",
              "    </tr>\n",
              "    <tr>\n",
              "      <th>...</th>\n",
              "      <td>...</td>\n",
              "      <td>...</td>\n",
              "      <td>...</td>\n",
              "      <td>...</td>\n",
              "      <td>...</td>\n",
              "    </tr>\n",
              "    <tr>\n",
              "      <th>3</th>\n",
              "      <td>Tusher</td>\n",
              "      <td>70</td>\n",
              "      <td>Dhaka</td>\n",
              "      <td>Good</td>\n",
              "      <td>2</td>\n",
              "    </tr>\n",
              "    <tr>\n",
              "      <th>4</th>\n",
              "      <td>Zubaer</td>\n",
              "      <td>75</td>\n",
              "      <td>Jessore</td>\n",
              "      <td>Good</td>\n",
              "      <td>1</td>\n",
              "    </tr>\n",
              "  </tbody>\n",
              "</table>\n",
              "<p>10 rows × 5 columns</p>\n",
              "</div>"
            ],
            "text/plain": [
              "      Name  Marks   Address Status  index_backwards\n",
              "0     Real     50   Cumilla   Good                5\n",
              "1    Nasim     55  Rajshahi   Good                4\n",
              "..     ...    ...       ...    ...              ...\n",
              "3   Tusher     70     Dhaka   Good                2\n",
              "4   Zubaer     75   Jessore   Good                1\n",
              "\n",
              "[10 rows x 5 columns]"
            ]
          },
          "metadata": {},
          "execution_count": 70
        }
      ]
    }
  ]
}